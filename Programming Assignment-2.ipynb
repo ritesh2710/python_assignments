{
 "cells": [
  {
   "cell_type": "markdown",
   "id": "5595c750",
   "metadata": {},
   "source": [
    "# A) Numpy"
   ]
  },
  {
   "cell_type": "code",
   "execution_count": 1,
   "id": "33d4d894",
   "metadata": {},
   "outputs": [],
   "source": [
    "import numpy as np \n",
    "np.random.seed(123) \n",
    "random_int = np.random.randint(1,high=1000, size=(20, 5)) "
   ]
  },
  {
   "cell_type": "markdown",
   "id": "e416a9d4",
   "metadata": {},
   "source": [
    "### Q-1 What is the average value of the first 5 rows ( 2 decimal place) ?"
   ]
  },
  {
   "cell_type": "code",
   "execution_count": 2,
   "id": "8ea5e840",
   "metadata": {},
   "outputs": [
    {
     "name": "stdout",
     "output_type": "stream",
     "text": [
      "Average value of the first 5 having  25  elements is  373.16\n"
     ]
    }
   ],
   "source": [
    "i=0\n",
    "j=0\n",
    "sum=0\n",
    "avg_val=0\n",
    "tot_elements=0\n",
    "\n",
    "for i in range(0,5):\n",
    "    n=random_int[i]\n",
    "    for j in range(0,5):\n",
    "        sum=sum+random_int[i][j]\n",
    "        tot_elements=tot_elements+1\n",
    "\n",
    "avg_val = sum/tot_elements\n",
    "print('Average value of the first 5 having ', tot_elements, ' elements is ', avg_val)"
   ]
  },
  {
   "cell_type": "markdown",
   "id": "6ba447d3",
   "metadata": {},
   "source": [
    "### Q-2 What is the average value of the second element in each of the list (2 decimal places)? "
   ]
  },
  {
   "cell_type": "code",
   "execution_count": 3,
   "id": "8f1caaf8",
   "metadata": {},
   "outputs": [
    {
     "name": "stdout",
     "output_type": "stream",
     "text": [
      "Average value of the second element in each of the list  155.2\n"
     ]
    }
   ],
   "source": [
    "i=0\n",
    "j=0\n",
    "sum=0\n",
    "avg_val=0\n",
    "tot_elements=0\n",
    "\n",
    "for i in range(0,5):\n",
    "    n=random_int[i]\n",
    "    sum=sum+random_int[i][2]\n",
    "    tot_elements=tot_elements+1\n",
    "\n",
    "avg_val = sum/tot_elements\n",
    "print('Average value of the second element in each of the list ', avg_val)"
   ]
  },
  {
   "cell_type": "markdown",
   "id": "284c3157",
   "metadata": {},
   "source": [
    "# B) Pandas"
   ]
  },
  {
   "cell_type": "code",
   "execution_count": 4,
   "id": "f2f225bd",
   "metadata": {},
   "outputs": [],
   "source": [
    "# Get the mtcars data using the following code:\n",
    "import pandas as pd    \n",
    "data = pd.read_html(\"https://gist.github.com/seankross/a412dfbd88b3db70b74b\")\n",
    "mtcars_df = data[0]\n"
   ]
  },
  {
   "cell_type": "markdown",
   "id": "a2acfd02",
   "metadata": {},
   "source": [
    "### Q-3) Get the name of the car(s) with highest power to displacement ratio "
   ]
  },
  {
   "cell_type": "code",
   "execution_count": 5,
   "id": "b1dcdbc8",
   "metadata": {},
   "outputs": [],
   "source": [
    "mtcars_df['PowerDispRation']=mtcars_df['hp']/mtcars_df['disp']"
   ]
  },
  {
   "cell_type": "code",
   "execution_count": 6,
   "id": "788e4b21",
   "metadata": {},
   "outputs": [
    {
     "data": {
      "text/html": [
       "<div>\n",
       "<style scoped>\n",
       "    .dataframe tbody tr th:only-of-type {\n",
       "        vertical-align: middle;\n",
       "    }\n",
       "\n",
       "    .dataframe tbody tr th {\n",
       "        vertical-align: top;\n",
       "    }\n",
       "\n",
       "    .dataframe thead th {\n",
       "        text-align: right;\n",
       "    }\n",
       "</style>\n",
       "<table border=\"1\" class=\"dataframe\">\n",
       "  <thead>\n",
       "    <tr style=\"text-align: right;\">\n",
       "      <th></th>\n",
       "      <th>Unnamed: 0</th>\n",
       "      <th>model</th>\n",
       "      <th>mpg</th>\n",
       "      <th>cyl</th>\n",
       "      <th>disp</th>\n",
       "      <th>hp</th>\n",
       "      <th>drat</th>\n",
       "      <th>wt</th>\n",
       "      <th>qsec</th>\n",
       "      <th>vs</th>\n",
       "      <th>am</th>\n",
       "      <th>gear</th>\n",
       "      <th>carb</th>\n",
       "      <th>PowerDispRation</th>\n",
       "    </tr>\n",
       "  </thead>\n",
       "  <tbody>\n",
       "    <tr>\n",
       "      <th>29</th>\n",
       "      <td>NaN</td>\n",
       "      <td>Ferrari Dino</td>\n",
       "      <td>19.7</td>\n",
       "      <td>6</td>\n",
       "      <td>145.0</td>\n",
       "      <td>175</td>\n",
       "      <td>3.62</td>\n",
       "      <td>2.77</td>\n",
       "      <td>15.5</td>\n",
       "      <td>0</td>\n",
       "      <td>1</td>\n",
       "      <td>5</td>\n",
       "      <td>6</td>\n",
       "      <td>1.206897</td>\n",
       "    </tr>\n",
       "  </tbody>\n",
       "</table>\n",
       "</div>"
      ],
      "text/plain": [
       "    Unnamed: 0         model   mpg  cyl   disp   hp  drat    wt  qsec  vs  am  \\\n",
       "29         NaN  Ferrari Dino  19.7    6  145.0  175  3.62  2.77  15.5   0   1   \n",
       "\n",
       "    gear  carb  PowerDispRation  \n",
       "29     5     6         1.206897  "
      ]
     },
     "execution_count": 6,
     "metadata": {},
     "output_type": "execute_result"
    }
   ],
   "source": [
    "powerful_car=mtcars_df.loc[mtcars_df['PowerDispRation']==mtcars_df['PowerDispRation'].max()]\n",
    "powerful_car"
   ]
  },
  {
   "cell_type": "markdown",
   "id": "dd67e7dc",
   "metadata": {},
   "source": [
    "### Q-4) How many cars have 4 cylinder and 4 gears? "
   ]
  },
  {
   "cell_type": "code",
   "execution_count": 7,
   "id": "da2b51c4",
   "metadata": {},
   "outputs": [
    {
     "data": {
      "text/plain": [
       "(8, 14)"
      ]
     },
     "execution_count": 7,
     "metadata": {},
     "output_type": "execute_result"
    }
   ],
   "source": [
    "df=mtcars_df.loc[(mtcars_df['cyl']==4) & (mtcars_df['gear']==4)]\n",
    "df.shape"
   ]
  },
  {
   "cell_type": "markdown",
   "id": "f5a3a584",
   "metadata": {},
   "source": [
    "# C) Strings"
   ]
  },
  {
   "cell_type": "markdown",
   "id": "5b26adef",
   "metadata": {},
   "source": [
    "### Q5) Write a python program to count the number occurrences of all vowels present in a string. "
   ]
  },
  {
   "cell_type": "code",
   "execution_count": 8,
   "id": "10e670c1",
   "metadata": {},
   "outputs": [
    {
     "name": "stdout",
     "output_type": "stream",
     "text": [
      "Number occurences of all vowels in string \" I am learning Python \" is  5\n"
     ]
    }
   ],
   "source": [
    "str1=\"I am learning Python\"\n",
    "cnt=0\n",
    "\n",
    "for i in str1:\n",
    "    if i in ['a','e','i','o','u']:\n",
    "        cnt=cnt+1\n",
    "print('Number occurences of all vowels in string \\\"', str1, '\\\" is ', cnt)"
   ]
  }
 ],
 "metadata": {
  "kernelspec": {
   "display_name": "Python 3 (ipykernel)",
   "language": "python",
   "name": "python3"
  },
  "language_info": {
   "codemirror_mode": {
    "name": "ipython",
    "version": 3
   },
   "file_extension": ".py",
   "mimetype": "text/x-python",
   "name": "python",
   "nbconvert_exporter": "python",
   "pygments_lexer": "ipython3",
   "version": "3.9.7"
  }
 },
 "nbformat": 4,
 "nbformat_minor": 5
}
