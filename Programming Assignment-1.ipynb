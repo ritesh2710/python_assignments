{
 "cells": [
  {
   "cell_type": "markdown",
   "id": "ecd3f3de",
   "metadata": {},
   "source": [
    "### Q1) Reverse a given integer number  [ input:76542 ,  output: 24567]"
   ]
  },
  {
   "cell_type": "code",
   "execution_count": 1,
   "id": "af7dc045",
   "metadata": {},
   "outputs": [
    {
     "name": "stdout",
     "output_type": "stream",
     "text": [
      "24567\n"
     ]
    }
   ],
   "source": [
    "s1=76542\n",
    "print(str(s1)[::-1]) # As integer value is not subscriptable, we have to convert it into string"
   ]
  },
  {
   "cell_type": "markdown",
   "id": "3195ffcb",
   "metadata": {},
   "source": [
    "### Q2) Write a python program to find the second largest number in a List"
   ]
  },
  {
   "cell_type": "code",
   "execution_count": 3,
   "id": "ab7c8380",
   "metadata": {},
   "outputs": [
    {
     "name": "stdout",
     "output_type": "stream",
     "text": [
      "Second largest number of sorted list  [2, 3, 5, 10] is  3\n"
     ]
    }
   ],
   "source": [
    "number_list=[3,10,5,2]\n",
    "number_list.sort() \n",
    "# by default it will sort in ascending order. \n",
    "#If you want to sort in reverse order then use number_list.sort(reverse=True)\n",
    "\n",
    "print(\"Second largest number of sorted list \", number_list, \"is \", number_list[1])\n",
    "# Second largest number will be at position 1 in the list as the list starts from 0"
   ]
  },
  {
   "cell_type": "markdown",
   "id": "cebb89ac",
   "metadata": {},
   "source": [
    "### Q3) Write a python program to calculate the number of words and the number of characters present in a string\n"
   ]
  },
  {
   "cell_type": "code",
   "execution_count": 4,
   "id": "7b4c7c2a",
   "metadata": {},
   "outputs": [
    {
     "name": "stdout",
     "output_type": "stream",
     "text": [
      "Number of words in the string:  My name is Ritesh : 4\n",
      "Number of characters in the string:  My name is Ritesh : 14\n"
     ]
    }
   ],
   "source": [
    "str=\"My name is Ritesh\"\n",
    "print('Number of words in the string: ', str,':', len(str.split()))\n",
    "print('Number of characters in the string: ', str,':', len(str)-str.count(\" \"))\n",
    "# If only len(str) is used then spaces will also be counted"
   ]
  },
  {
   "cell_type": "markdown",
   "id": "5d156b82",
   "metadata": {},
   "source": [
    "### Q4) Write a program to compute prime factors of an integer"
   ]
  },
  {
   "cell_type": "code",
   "execution_count": 5,
   "id": "7ed8bb10",
   "metadata": {},
   "outputs": [
    {
     "name": "stdout",
     "output_type": "stream",
     "text": [
      "2\n",
      "2\n",
      "5\n",
      "5\n"
     ]
    }
   ],
   "source": [
    "import math\n",
    "def primefactors(n):\n",
    "   #even number divisible\n",
    "   while n % 2 == 0:\n",
    "      print (2) #while num is divisible by 2, we will print 2 and divide the num by 2.\n",
    "      n = n / 2\n",
    "    \n",
    "   #n became odd\n",
    "   # Start a loop from i = 3 to the square root of n. If i divide num, print i, and divide num by i. \n",
    "   # After i fail to divide num, increment the i value by 2 and continue.\n",
    "   # If num is a prime number and is greater than 2, then the num cannot become 1.\n",
    "\n",
    "   for i in range(3,int(math.sqrt(n))+1,2):\n",
    "     \n",
    "      while (n % i == 0):\n",
    "         print (i)\n",
    "         n = n / i\n",
    "        \n",
    "    # After the above step, num must be always odd.\n",
    "    # So, print num if it is greater than 2.    \n",
    "   if n > 2:\n",
    "        print(int(n))\n",
    " \n",
    "n = 100 # n denotes the number for which prime factors need to be found\n",
    "primefactors(n) # function to identify prime factors of number n"
   ]
  },
  {
   "cell_type": "markdown",
   "id": "567b6eda",
   "metadata": {},
   "source": [
    "### Q5) Write a python program to find the fibonacci series using recursion"
   ]
  },
  {
   "cell_type": "code",
   "execution_count": 6,
   "id": "a270f03e",
   "metadata": {},
   "outputs": [
    {
     "name": "stdout",
     "output_type": "stream",
     "text": [
      "[0, 1, 1, 2, 3, 5, 8, 13, 21, 34]\n"
     ]
    }
   ],
   "source": [
    "n=10 # fibo series for n\n",
    "from functools import reduce\n",
    "fibo = lambda n: reduce(lambda x, _: x+[x[-1]+x[-2]],range(n-2), [0, 1]) # recursive is handled\n",
    "print(fibo(n))"
   ]
  }
 ],
 "metadata": {
  "kernelspec": {
   "display_name": "Python 3 (ipykernel)",
   "language": "python",
   "name": "python3"
  },
  "language_info": {
   "codemirror_mode": {
    "name": "ipython",
    "version": 3
   },
   "file_extension": ".py",
   "mimetype": "text/x-python",
   "name": "python",
   "nbconvert_exporter": "python",
   "pygments_lexer": "ipython3",
   "version": "3.9.7"
  }
 },
 "nbformat": 4,
 "nbformat_minor": 5
}
